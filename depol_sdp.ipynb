{
 "cells": [
  {
   "cell_type": "code",
   "execution_count": 1,
   "metadata": {},
   "outputs": [],
   "source": [
    "import cvxpy as cp\n",
    "from numpy import log2\n",
    "from choi import * #custom\n",
    "import matplotlib.pyplot as plt"
   ]
  },
  {
   "cell_type": "markdown",
   "metadata": {},
   "source": [
    "We denote by $\\mathcal{P}(\\mathcal{H})$ the set of positive semidefinite operators acting on a Hilbert Space $\\mathcal{H}$.\n",
    "\n",
    "Let $\\mathcal{N}: A \\rightarrow B$ be a quantum channel with Choi operator $\\tau_{AB}^\\cal{N}$. \n",
    "\n",
    "Then\n",
    "  \n",
    "  \\begin{align}\n",
    "    \\begin{aligned}\n",
    "  \\mathcal{Q}(\\cal{N}) \\leq \\log \\varGamma (\\cal{N})\n",
    "    \\end{aligned}\n",
    "   \\end{align}\n",
    "   \n",
    "Where $\\varGamma (\\cal{N})$ is given by\n",
    "\n",
    "\n",
    "  \\begin{align}\n",
    "    \\begin{aligned}\n",
    "    \\text{minimize: }\\mu \\\\ \\text{subject to: } & \\mu \\in \\mathbb{R} \\\\ & V_{AB}, Y_{AB} \\in \\mathcal{P}(\\mathcal{H}_A \\otimes \\mathcal{H}_B) \\\\ & (V_{AB} - Y_{AB})^{T_B} \\geq \\tau_{AB}^\\cal{N} \\\\ & V_A + Y_A \\leq \\mu {\\mathbb{I}}_A\n",
    "    \\end{aligned}\n",
    "   \\end{align}\n",
    "\n",
    "We solve this semidefinite program using PICOS."
   ]
  },
  {
   "cell_type": "code",
   "execution_count": 2,
   "metadata": {},
   "outputs": [],
   "source": [
    "d = 5\n",
    "D = d**2"
   ]
  },
  {
   "cell_type": "code",
   "execution_count": 3,
   "metadata": {},
   "outputs": [
    {
     "data": {
      "image/png": "[encoded data removed]",
      "text/plain": [
       "<Figure size 432x288 with 1 Axes>"
      ]
     },
     "metadata": {
      "needs_background": "light"
     },
     "output_type": "display_data"
    }
   ],
   "source": [
    "c = []\n",
    "q_vals = np.array(range(100)) * 0.01\n",
    "\n",
    "Vab = cp.Variable((D,D), symmetric=True)\n",
    "Yab = cp.Variable((D,D), symmetric=True)\n",
    "mu = cp.Variable()\n",
    "iMat = np.identity(d)\n",
    "\n",
    "Va = cp.partial_trace(Vab, (d,d), 1)\n",
    "Ya = cp.partial_trace(Yab, (d,d), 1)\n",
    "\n",
    "for q in q_vals:\n",
    "    choi_mat = choi(d,q,depol)\n",
    "    constraints = [Vab >> 0]\n",
    "    constraints += [Yab >> 0]\n",
    "    constraints += [cp.partial_transpose(Vab - Yab, (d,d), 1) >> choi_mat]\n",
    "    constraints += [Va + Ya << mu * iMat]\n",
    "    prob = cp.Problem(cp.Minimize(mu),\n",
    "                  constraints)\n",
    "    prob.solve()\n",
    "    c.append(log2(prob.value))\n",
    "    \n",
    "\n",
    "plt.plot(q_vals,c)\n",
    "\n",
    "plt.title('depolarizing channel with d=' + str(d))\n",
    "plt.xlabel('q-parameter')\n",
    "plt.ylabel('quantum capacity')\n",
    "\n",
    "plt.show()"
   ]
  },
  {
   "cell_type": "code",
   "execution_count": 56,
   "metadata": {},
   "outputs": [
    {
     "name": "stdout",
     "output_type": "stream",
     "text": [
      "0.9891395447699255\n"
     ]
    }
   ],
   "source": [
    "#simple\n",
    "\n",
    "d = 2\n",
    "choi_mat = choi(d,0.01,depol)\n",
    "\n",
    "\n",
    "\n",
    "D = d**2\n",
    "Vab = cp.Variable((D,D), symmetric=True)\n",
    "Yab = cp.Variable((D,D), symmetric=True)\n",
    "mu = cp.Variable()\n",
    "iMat = np.identity(d)\n",
    "\n",
    "Va = cp.partial_trace(Vab, (d,d), 1)\n",
    "Ya = cp.partial_trace(Yab, (d,d), 1)\n",
    "\n",
    "constraints = [Vab >> 0]\n",
    "constraints += [Yab >> 0]\n",
    "\n",
    "constraints += [cp.partial_transpose(Vab - Yab, (d,d), 1) >> choi_mat]\n",
    "\n",
    "constraints += [Va + Ya << mu * iMat]\n",
    "\n",
    "prob = cp.Problem(cp.Minimize(mu),\n",
    "                  constraints)\n",
    "prob.solve()\n",
    "\n",
    "print(log2(prob.value))"
   ]
  }
 ],
 "metadata": {
  "kernelspec": {
   "display_name": "Python 3 (ipykernel)",
   "language": "python",
   "name": "python3"
  },
  "language_info": {
   "codemirror_mode": {
    "name": "ipython",
    "version": 3
   },
   "file_extension": ".py",
   "mimetype": "text/x-python",
   "name": "python",
   "nbconvert_exporter": "python",
   "pygments_lexer": "ipython3",
   "version": "3.9.7"
  }
 },
 "nbformat": 4,
 "nbformat_minor": 2
}
